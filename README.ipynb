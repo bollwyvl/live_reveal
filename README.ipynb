{
 "cells": [
  {
   "cell_type": "markdown",
   "metadata": {
    "slideshow": {
     "slide_type": "slide"
    }
   },
   "source": [
    "# [RISE](https://github.com/damianavila)\n",
    "\n",
    "**Reveal.js - Jupyter/IPython Slideshow Extension**\n",
    "\n",
    "also known as *live_reveal*\n",
    "\n",
    "[![Gitter](https://badges.gitter.im/Join%20Chat.svg)](https://gitter.im/damianavila/RISE)"
   ]
  },
  {
   "cell_type": "markdown",
   "metadata": {
    "collapsed": true,
    "slideshow": {
     "slide_type": "subslide"
    }
   },
   "source": [
    "## RISE live demo\n",
    "\n",
    "My talk about **RISE** at *SciPy 2014* (click on the image to see it):\n",
    "\n",
    "[![RJSE/RISE video](http://img.youtube.com/vi/sZBKruEh0jI/0.jpg)](https://www.youtube.com/watch?v=sZBKruEh0jI)"
   ]
  },
  {
   "cell_type": "markdown",
   "metadata": {
    "slideshow": {
     "slide_type": "slide"
    }
   },
   "source": [
    "## Installation\n",
    "\n",
    "To install this nbextension, simply run ``python setup.py install`` from the\n",
    "*RISE* repository.\n",
    "\n",
    "You also have some interesting optional arguments, such as:\n",
    "\n",
    "```bash\n",
    "--develop          # Install livereveal as a symlink \n",
    "                   # to the source.\n",
    "--profile PROFILE  # The name of the profile to use.\n",
    "```\n",
    "\n",
    "**Note**: We are now (27 Feb 2015) using the new frontend config system, so if\n",
    "you installed RISE with the ``--develop`` option before, please reinstall it\n",
    "again. Thanks.\n"
   ]
  },
  {
   "cell_type": "markdown",
   "metadata": {
    "slideshow": {
     "slide_type": "subslide"
    }
   },
   "source": [
    "## Bookmarklet\n",
    "All of the python in RISE just ensures the JS/CSS is delivered to your browser by your Jupyter server. [Bookmarklets](https://en.wikipedia.org/wiki/Bookmarklet), can run **arbitrary remote JS**. If you're good with this..."
   ]
  },
  {
   "cell_type": "code",
   "execution_count": 29,
   "metadata": {
    "collapsed": false,
    "slideshow": {
     "slide_type": "fragment"
    }
   },
   "outputs": [
    {
     "data": {
      "text/html": [
       "<h1>Drag <span class=\"label label-info\" title=\"drag this to your bookmark bar\">\n",
       "<a href=\"javascript:(function(){require%28%5B%22https%3A//damianavila.github.io/RISE/livereveal/main.js%22%5D%2C%20function%28r%29%7Br%28%29%3B%7D%29%3B}());\">\n",
       "    <i class=\"fa fa-arrows\"></i>\n",
       "    RISElet\n",
       "</a>\n",
       "</span>\n",
       "to your bookmark bar!</h1>"
      ],
      "text/plain": [
       "<IPython.core.display.HTML object>"
      ]
     },
     "metadata": {},
     "output_type": "display_data"
    }
   ],
   "source": [
    "%%html\n",
    "<h1>Drag <span class=\"label label-info\" title=\"drag this to your bookmark bar\">\n",
    "<a href=\"javascript:(function(){require%28%5B%22https%3A//damianavila.github.io/RISE/livereveal/main.js%22%5D%2C%20function%28r%29%7Br%28%29%3B%7D%29%3B}());\">\n",
    "    <i class=\"fa fa-arrows\"></i>\n",
    "    RISElet\n",
    "</a>\n",
    "</span>\n",
    "to your bookmark bar!</h1>"
   ]
  },
  {
   "cell_type": "markdown",
   "metadata": {
    "slideshow": {
     "slide_type": "-"
    }
   },
   "source": [
    "...And you can have RISE on any running Notebook."
   ]
  },
  {
   "cell_type": "markdown",
   "metadata": {
    "slideshow": {
     "slide_type": "slide"
    }
   },
   "source": [
    "## About\n",
    "\n",
    "As you know... I love **[Jupyter](http://jupyter.org)/[IPython](http://ipython.org)** and I like **[Reveal.js][]** a lot.\n",
    "\n",
    "Previously, I developed a \"converter\" for the `nbconvert` library to\n",
    "export `ipynb` to a *STATIC* html slideshow based on the **[Reveal.js][]** library.\n",
    "\n",
    "But now, here, you don't have a *STATIC* version anymore, you have a **LIVE**\n",
    "version... I mean, a notebook **rendered** as a **[Reveal.js][]**-based slideshow,\n",
    "where you can **execute** code or show to the audience whatever you can show/do\n",
    "inside the plain notebook (but in a nicer way).\n",
    "\n",
    "[Reveal.js]: http://lab.hakim.se/reveal-js/"
   ]
  },
  {
   "cell_type": "markdown",
   "metadata": {
    "slideshow": {
     "slide_type": "subslide"
    }
   },
   "source": [
    "## NOTES\n",
    "\n",
    "1. **RISE** master branch will be following the **Jupyter/IPython** master codebase.\n",
    "There is also a released **RISE** 2.x version compatible with the **IPython** 2.x\n",
    "series, but this version will be not maintained after **IPython** 3.0 release.\n",
    "\n",
    "2. I am still learning JS to do that, so probably the code is ugly. I will try\n",
    "to improve it, the good news: it is working!!\n",
    "\n",
    "3. Here is a [gist of an example presentation](https://gist.github.com/damianavila/6345426). You can test the extension with it\n",
    "or use it as a template... or make your own presentaion ;-)\n",
    "\n",
    "4. I tested the extension without losing any `ipynb` for more than one year now,\n",
    "but I am touching your `ipynb` in a *complex* way... so, make sure you have a\n",
    "backup of your `ipynb` to prevent any possible loss.\n",
    "\n",
    "5. There are some issues in **Firefox** (if you use it, please report me any issue\n",
    "because I want to support both browsers), so I recommend using **Chromium/Chrome**\n",
    "during your talks)."
   ]
  },
  {
   "cell_type": "markdown",
   "metadata": {
    "slideshow": {
     "slide_type": "slide"
    }
   },
   "source": [
    "## Usage\n",
    "\n",
    "In the notebook toolbar, a new button will be available:\n",
    "<a class=\"btn btn-default\"><i class=\"fa fa-2x fa-bar-chart-o\"></i></a> Enter/Exit Live Reveal Slideshow\n",
    "\n",
    "The notebook toolbar also contains a **Cell Toolbar** dropdown menu that gives\n",
    "you access to metadata for each cell. If you select **Slideshow**, the top right corner of each cell shows a dropdown where you can select\n",
    "the **Slide Type**, which RISE shares with `nbconvert` slides."
   ]
  },
  {
   "cell_type": "markdown",
   "metadata": {
    "slideshow": {
     "slide_type": "subslide"
    }
   },
   "source": [
    "### Some notes:\n",
    "\n",
    "- Use <kbd>spacebar</kbd> to go forward and <kbd>shift+spacebar</kbd> to go backward (or the\n",
    "controller in the bottom right corner). <kbd>↑</kbd> and <kbd>↓</kbd> are reserved for\n",
    "interacting with notebook cells and cannot be used to navigate subslides or text, instead use <kbd>pgup</kbd> and <kbd>pgdown</kbd>.\n",
    "\n",
    "- Unlike the traditional IPython/Jupyter notebook, the <kbd>shift+enter</kbd>\n",
    "shortcut runs the cell but does not select the next cell (a la <kbd>ctrl+enter</kbd>). This avoids switching slides after running a cell and problems that arise when injecting new cells on the fly.\n",
    "\n",
    "- When you exit the presentation mode by pressing <i class=\"fa fa-bar-chart-o\"></i> or <kbd>alt+r</kbd>, the normal notebook interface will reappear.\n",
    "\n",
    "- Learn more about RISE-specific shortcuts by pressing the <i class=\"fa fa-question\"></i> help\n",
    "button at the bottom left of the screen.\n"
   ]
  },
  {
   "cell_type": "markdown",
   "metadata": {
    "collapsed": true,
    "slideshow": {
     "slide_type": "slide"
    }
   },
   "source": [
    "## Manual installation\n",
    "\n",
    "I encourage you to use the `setup.py`-based installation (see above), but if you\n",
    "must install manually, put the `livereveal` folder from the\n",
    "repo into your `$HOME/.ipython/nbextensions` folder and run this python code to enable\n",
    "it: \n",
    "\n",
    "```python\n",
    "from IPython.html.services.config import ConfigManager\n",
    "from IPython.utils.path import locate_profile\n",
    "cm = ConfigManager(profile_dir=locate_profile(get_ipython().profile))\n",
    "cm.update('notebook', {\"load_extensions\": {\"livereveal/main\": True}})\n",
    "```"
   ]
  },
  {
   "cell_type": "markdown",
   "metadata": {
    "slideshow": {
     "slide_type": "fragment"
    }
   },
   "source": [
    "or this python code to disable it:\n",
    "\n",
    "```python\n",
    "from IPython.html.services.config import ConfigManager\n",
    "from IPython.utils.path import locate_profile\n",
    "cm = ConfigManager(profile_dir=locate_profile(get_ipython().profile))\n",
    "cm.update('notebook', {\"load_extensions\": {\"livereveal/main\": False}})\n",
    "```"
   ]
  },
  {
   "cell_type": "markdown",
   "metadata": {
    "slideshow": {
     "slide_type": "slide"
    }
   },
   "source": [
    "## Configure your own options\n",
    "\n",
    "You can configure the `theme` and the `transition` of your slides, and where\n",
    "slideshows start from, by running this python code:\n",
    "\n",
    "```python\n",
    "from IPython.html.services.config import ConfigManager\n",
    "from IPython.utils.path import locate_profile\n",
    "cm = ConfigManager(profile_dir=locate_profile(get_ipython().profile))\n",
    "cm.update('livereveal', {\n",
    "              'theme': 'serif',\n",
    "              'transition': 'zoom',\n",
    "              'start_slideshow_at': 'selected',\n",
    "})\n",
    "```\n",
    "With these options, your slides will get the `serif` theme and the\n",
    "`zoom` transition, and slideshows will start from the selected cell (instead\n",
    "of from the beginning, which is the default)."
   ]
  },
  {
   "cell_type": "markdown",
   "metadata": {
    "slideshow": {
     "slide_type": "subslide"
    }
   },
   "source": [
    "You can use a similar piece of python code to change the `width` and\n",
    "`height` of your slides:\n",
    "\n",
    "```python\n",
    "from IPython.html.services.config import ConfigManager\n",
    "from IPython.utils.path import locate_profile\n",
    "cm = ConfigManager(profile_dir=locate_profile(get_ipython().profile))\n",
    "cm.update('livereveal', {\n",
    "              'width': 1024,\n",
    "              'height': 768,\n",
    "})\n",
    "```\n",
    "\n",
    "There are also options for `controls`, `progress`, `history`, `minScale` and\n",
    "`slideNumber`.\n",
    "\n",
    "**Note**: The use of the `minScale` option (values other then `1.0`) can cause\n",
    "problems with CodeMirror."
   ]
  },
  {
   "cell_type": "markdown",
   "metadata": {
    "slideshow": {
     "slide_type": "slide"
    }
   },
   "source": [
    "## Usage with Leap Motion\n",
    "\n",
    "**Reveal.js** supports the [Leap Motion](leapmotion.com) controller.\n",
    "To control RISE slideshows with the Leap, put the\n",
    "[reveal leap plugin options](https://github.com/hakimel/reveal.js#leap-motion)\n",
    "in your config by running this Python code:\n",
    "\n",
    "```python\n",
    "from IPython.html.services.config import ConfigManager\n",
    "from IPython.utils.path import locate_profile\n",
    "cm = ConfigManager(profile_dir=locate_profile(get_ipython().profile))\n",
    "cm.update('livereveal', {\n",
    "    'leap_motion': {\n",
    "        'naturalSwipe'  : True,     # Invert swipe gestures\n",
    "        'pointerOpacity': 0.5,      # Set pointer opacity to 0.5\n",
    "        'pointerColor'  : '#d80000',# Red pointer\n",
    "    }\n",
    "})\n",
    "```"
   ]
  },
  {
   "cell_type": "markdown",
   "metadata": {
    "slideshow": {
     "slide_type": "subslide"
    }
   },
   "source": [
    "To disable it:\n",
    "\n",
    "```python\n",
    "from IPython.html.services.config import ConfigManager\n",
    "from IPython.utils.path import locate_profile\n",
    "cm = ConfigManager(profile_dir=locate_profile(get_ipython().profile))\n",
    "cm.update('livereveal', {'leap_motion': None})\n",
    "```\n"
   ]
  },
  {
   "cell_type": "markdown",
   "metadata": {
    "slideshow": {
     "slide_type": "slide"
    }
   },
   "source": [
    "## Feedback\n",
    "\n",
    "If you have any feedback, or find any bugs, please let me know by [opening an issue](https://github.com/damianavila/RISE/issues).\n",
    "\n",
    "Thanks!\n",
    "\n",
    "> Damián."
   ]
  }
 ],
 "metadata": {
  "celltoolbar": "Slideshow",
  "kernelspec": {
   "display_name": "Python 3",
   "language": "python",
   "name": "python3"
  },
  "language_info": {
   "codemirror_mode": {
    "name": "ipython",
    "version": 3
   },
   "file_extension": ".py",
   "mimetype": "text/x-python",
   "name": "python",
   "nbconvert_exporter": "python",
   "pygments_lexer": "ipython3",
   "version": "3.4.2"
  }
 },
 "nbformat": 4,
 "nbformat_minor": 0
}
